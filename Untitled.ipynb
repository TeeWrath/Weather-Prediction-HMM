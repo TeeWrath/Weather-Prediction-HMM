{
 "cells": [
  {
   "cell_type": "code",
   "execution_count": 1,
   "id": "2baa8be1-011b-435c-ab47-c6b31526e6fa",
   "metadata": {},
   "outputs": [
    {
     "name": "stderr",
     "output_type": "stream",
     "text": [
      "MultinomialHMM has undergone major changes. The previous version was implementing a CategoricalHMM (a special case of MultinomialHMM). This new implementation follows the standard definition for a Multinomial distribution (e.g. as in https://en.wikipedia.org/wiki/Multinomial_distribution). See these issues for details:\n",
      "https://github.com/hmmlearn/hmmlearn/issues/335\n",
      "https://github.com/hmmlearn/hmmlearn/issues/340\n"
     ]
    },
    {
     "name": "stdout",
     "output_type": "stream",
     "text": [
      "Today: Sunny → Tomorrow: Sunny\n",
      "Accuracy: nan%\n",
      "Confusion Matrix:\n",
      "[[0 0 0]\n",
      " [0 0 0]\n",
      " [0 0 0]]\n"
     ]
    },
    {
     "name": "stderr",
     "output_type": "stream",
     "text": [
      "/home/teewrath/work/sem project/weather_prediction/env/lib/python3.13/site-packages/numpy/lib/_function_base_impl.py:552: RuntimeWarning: Mean of empty slice.\n",
      "  avg = a.mean(axis, **keepdims_kw)\n",
      "/home/teewrath/work/sem project/weather_prediction/env/lib/python3.13/site-packages/numpy/_core/_methods.py:145: RuntimeWarning: invalid value encountered in scalar divide\n",
      "  ret = ret.dtype.type(ret / rcount)\n"
     ]
    }
   ],
   "source": [
    "import numpy as np\n",
    "import pandas as pd\n",
    "from hmmlearn import hmm\n",
    "import matplotlib.pyplot as plt\n",
    "from sklearn.metrics import accuracy_score, confusion_matrix\n",
    "\n",
    "# Step 1: Load & Preprocess Data\n",
    "data = pd.read_csv(\"weather_data.csv\")\n",
    "weather_mapping = {'Sunny': 0, 'Cloudy': 1, 'Rainy': 2}\n",
    "observations = data['Weather'].map(weather_mapping).values.reshape(-1, 1)\n",
    "\n",
    "# Step 2: Train HMM\n",
    "model = hmm.MultinomialHMM(n_components=3, n_iter=100)\n",
    "model.fit(observations)\n",
    "\n",
    "# Step 3: Predict Next Day's Weather\n",
    "def predict_weather(today_weather):\n",
    "    today_encoded = weather_mapping[today_weather]\n",
    "    next_state = model.predict(np.array([[today_encoded]]))\n",
    "    next_weather = list(weather_mapping.keys())[next_state[0]]\n",
    "    return next_weather\n",
    "\n",
    "# Example Prediction\n",
    "today = \"Sunny\"\n",
    "print(f\"Today: {today} → Tomorrow: {predict_weather(today)}\")\n",
    "\n",
    "# Step 4: Evaluate Model\n",
    "test_data = [...]  # Load test data\n",
    "predictions = [predict_weather(w) for w in test_data[:-1]]\n",
    "actual = test_data[1:]\n",
    "\n",
    "accuracy = accuracy_score(actual, predictions)\n",
    "print(f\"Accuracy: {accuracy * 100:.2f}%\")\n",
    "\n",
    "# Confusion Matrix\n",
    "cm = confusion_matrix(actual, predictions, labels=list(weather_mapping.keys()))\n",
    "print(\"Confusion Matrix:\")\n",
    "print(cm)"
   ]
  },
  {
   "cell_type": "code",
   "execution_count": null,
   "id": "2f80e7be-8c1a-4dad-b753-1f8ad3e3d1c6",
   "metadata": {},
   "outputs": [],
   "source": []
  }
 ],
 "metadata": {
  "kernelspec": {
   "display_name": "Python 3 (ipykernel)",
   "language": "python",
   "name": "python3"
  },
  "language_info": {
   "codemirror_mode": {
    "name": "ipython",
    "version": 3
   },
   "file_extension": ".py",
   "mimetype": "text/x-python",
   "name": "python",
   "nbconvert_exporter": "python",
   "pygments_lexer": "ipython3",
   "version": "3.13.2"
  }
 },
 "nbformat": 4,
 "nbformat_minor": 5
}
